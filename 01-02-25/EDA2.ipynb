{
 "cells": [
  {
   "cell_type": "code",
   "execution_count": 72,
   "id": "4d4b357a-93fb-458c-a558-8e44122ac840",
   "metadata": {},
   "outputs": [
    {
     "name": "stdout",
     "output_type": "stream",
     "text": [
      "   EmployeeID     Name Department  Designation   Salary\n",
      "0         101    Alice         HR      Manager  75000.0\n",
      "1         102      Bob         IT    Developer  85000.0\n",
      "2         103  Charlie    Finance      Analyst  70000.0\n",
      "3         104    David         IT    Team Lead  90000.0\n",
      "4         105     Emma  Marketing  Coordinator  65000.0\n"
     ]
    }
   ],
   "source": [
    "import pandas as pd\n",
    "\n",
    "from sqlalchemy import create_engine\n",
    "\n",
    "# Replace the following with your database connection details\n",
    "\n",
    "username = 'root'  # Your MySQL username\n",
    "\n",
    "password = '1234'  # Your MySQL password\n",
    "\n",
    "host = 'localhost'  # Your MySQL host, e.g., 'localhost' or an IP address\n",
    "\n",
    "database = 'harini17'  # Your MySQL database name\n",
    "\n",
    "# Create a connection string using SQLAlchemy\n",
    "\n",
    "connection_string = f'mysql+mysqlconnector://{username}:{password}@{host}/{database}'\n",
    "\n",
    "# Create an engine\n",
    "\n",
    "engine = create_engine(connection_string)\n",
    "\n",
    "# Read data from MySQL into a pandas DataFrame\n",
    "\n",
    "df_sql = pd.read_sql('SELECT * FROM Employee', engine)\n",
    "\n",
    "# Display the DataFrame\n",
    "\n",
    "print(df_sql)\n"
   ]
  },
  {
   "cell_type": "code",
   "execution_count": 73,
   "id": "bf25abd8-70e9-485e-89e6-5e88dca0509a",
   "metadata": {},
   "outputs": [
    {
     "data": {
      "text/html": [
       "<div>\n",
       "<style scoped>\n",
       "    .dataframe tbody tr th:only-of-type {\n",
       "        vertical-align: middle;\n",
       "    }\n",
       "\n",
       "    .dataframe tbody tr th {\n",
       "        vertical-align: top;\n",
       "    }\n",
       "\n",
       "    .dataframe thead th {\n",
       "        text-align: right;\n",
       "    }\n",
       "</style>\n",
       "<table border=\"1\" class=\"dataframe\">\n",
       "  <thead>\n",
       "    <tr style=\"text-align: right;\">\n",
       "      <th></th>\n",
       "      <th>EmployeeID</th>\n",
       "      <th>Name</th>\n",
       "      <th>Department_x</th>\n",
       "      <th>Designation</th>\n",
       "      <th>Salary</th>\n",
       "      <th>Department_y</th>\n",
       "      <th>HireDate</th>\n",
       "    </tr>\n",
       "  </thead>\n",
       "  <tbody>\n",
       "    <tr>\n",
       "      <th>0</th>\n",
       "      <td>101</td>\n",
       "      <td>Alice</td>\n",
       "      <td>HR</td>\n",
       "      <td>Manager</td>\n",
       "      <td>75000.0</td>\n",
       "      <td>HR</td>\n",
       "      <td>2018-01-15</td>\n",
       "    </tr>\n",
       "    <tr>\n",
       "      <th>1</th>\n",
       "      <td>102</td>\n",
       "      <td>Bob</td>\n",
       "      <td>IT</td>\n",
       "      <td>Developer</td>\n",
       "      <td>85000.0</td>\n",
       "      <td>IT</td>\n",
       "      <td>2019-06-23</td>\n",
       "    </tr>\n",
       "    <tr>\n",
       "      <th>2</th>\n",
       "      <td>103</td>\n",
       "      <td>Charlie</td>\n",
       "      <td>Finance</td>\n",
       "      <td>Analyst</td>\n",
       "      <td>70000.0</td>\n",
       "      <td>Finance</td>\n",
       "      <td>2020-11-05</td>\n",
       "    </tr>\n",
       "    <tr>\n",
       "      <th>3</th>\n",
       "      <td>104</td>\n",
       "      <td>David</td>\n",
       "      <td>IT</td>\n",
       "      <td>Team Lead</td>\n",
       "      <td>90000.0</td>\n",
       "      <td>IT</td>\n",
       "      <td>2017-03-17</td>\n",
       "    </tr>\n",
       "    <tr>\n",
       "      <th>4</th>\n",
       "      <td>105</td>\n",
       "      <td>Emma</td>\n",
       "      <td>Marketing</td>\n",
       "      <td>Coordinator</td>\n",
       "      <td>65000.0</td>\n",
       "      <td>Marketing</td>\n",
       "      <td>2021-08-09</td>\n",
       "    </tr>\n",
       "  </tbody>\n",
       "</table>\n",
       "</div>"
      ],
      "text/plain": [
       "   EmployeeID     Name Department_x  Designation   Salary Department_y  \\\n",
       "0         101    Alice           HR      Manager  75000.0           HR   \n",
       "1         102      Bob           IT    Developer  85000.0           IT   \n",
       "2         103  Charlie      Finance      Analyst  70000.0      Finance   \n",
       "3         104    David           IT    Team Lead  90000.0           IT   \n",
       "4         105     Emma    Marketing  Coordinator  65000.0    Marketing   \n",
       "\n",
       "     HireDate  \n",
       "0  2018-01-15  \n",
       "1  2019-06-23  \n",
       "2  2020-11-05  \n",
       "3  2017-03-17  \n",
       "4  2021-08-09  "
      ]
     },
     "execution_count": 73,
     "metadata": {},
     "output_type": "execute_result"
    }
   ],
   "source": [
    "import pandas as pd\n",
    "\n",
    "from sqlalchemy import create_engine\n",
    "\n",
    "# Replace the following with your database connection details\n",
    "\n",
    "username = 'root'  # Your MySQL username\n",
    "\n",
    "password = '1234'  # Your MySQL password\n",
    "\n",
    "host = 'localhost'  # Your MySQL host, e.g., 'localhost' or an IP address\n",
    "\n",
    "database = 'harini17'  # Your MySQL database name\n",
    "\n",
    "# Create a connection string using SQLAlchemy\n",
    "\n",
    "connection_string = f'mysql+mysqlconnector://{username}:{password}@{host}/{database}'\n",
    "\n",
    "# Create an engine\n",
    "\n",
    "engine = create_engine(connection_string)\n",
    "\n",
    "# Read data from MySQL into a pandas DataFrame\n",
    "\n",
    "df1 = pd.read_sql('SELECT * FROM Employee', engine)\n",
    "df2 = pd.read_csv('employee_details.csv')\n",
    "\n",
    "merged_df=pd.merge(df1,df2,on='EmployeeID',how='outer')\n",
    "merged_df\n"
   ]
  },
  {
   "cell_type": "code",
   "execution_count": 75,
   "id": "3cf068ae-ddf6-4c79-bf1e-04cc716b5c31",
   "metadata": {},
   "outputs": [
    {
     "name": "stdout",
     "output_type": "stream",
     "text": [
      "int64\n"
     ]
    }
   ],
   "source": [
    "print(merged_df['EmployeeID'].dtype)"
   ]
  },
  {
   "cell_type": "code",
   "execution_count": 76,
   "id": "0eca54c6-aa22-4199-9221-52403aa29ba6",
   "metadata": {},
   "outputs": [
    {
     "name": "stdout",
     "output_type": "stream",
     "text": [
      "object\n"
     ]
    }
   ],
   "source": [
    "print(df1['Name'].dtype)"
   ]
  },
  {
   "cell_type": "code",
   "execution_count": 77,
   "id": "eafe248a-2c4d-4500-a3e5-44dbce6c0e97",
   "metadata": {},
   "outputs": [
    {
     "name": "stdout",
     "output_type": "stream",
     "text": [
      "int64\n"
     ]
    }
   ],
   "source": [
    "print(df1['EmployeeID'].dtype)"
   ]
  },
  {
   "cell_type": "code",
   "execution_count": 82,
   "id": "a8d6e1e0-7283-4e42-b4e6-e769490dbbe0",
   "metadata": {},
   "outputs": [
    {
     "name": "stdout",
     "output_type": "stream",
     "text": [
      "Memory Usage:Index          132\n",
      "EmployeeID      40\n",
      "Name           269\n",
      "Department     267\n",
      "Designation    288\n",
      "Salary          40\n",
      "dtype: int64\n"
     ]
    }
   ],
   "source": [
    "print(f\"Memory Usage:{df1.memory_usage(deep=True)}\")"
   ]
  },
  {
   "cell_type": "code",
   "execution_count": 88,
   "id": "f709e494-b0c0-4ac6-9353-b1be90a07d94",
   "metadata": {},
   "outputs": [
    {
     "name": "stdout",
     "output_type": "stream",
     "text": [
      "<class 'pandas.core.frame.DataFrame'>\n",
      "RangeIndex: 5 entries, 0 to 4\n",
      "Data columns (total 5 columns):\n",
      " #   Column       Non-Null Count  Dtype  \n",
      "---  ------       --------------  -----  \n",
      " 0   EmployeeID   5 non-null      int16  \n",
      " 1   Name         5 non-null      object \n",
      " 2   Department   5 non-null      object \n",
      " 3   Designation  5 non-null      object \n",
      " 4   Salary       5 non-null      float64\n",
      "dtypes: float64(1), int16(1), object(3)\n",
      "memory usage: 302.0+ bytes\n"
     ]
    }
   ],
   "source": [
    "import numpy as np\n",
    "df1['EmployeeID'] = df1['EmployeeID'].astype(np.int16)\n",
    "df1.info()"
   ]
  },
  {
   "cell_type": "code",
   "execution_count": 98,
   "id": "a130bf4b-2230-4e6c-828a-d8ddc387a85b",
   "metadata": {},
   "outputs": [
    {
     "name": "stdout",
     "output_type": "stream",
     "text": [
      "<class 'pandas.core.frame.DataFrame'>\n",
      "RangeIndex: 5 entries, 0 to 4\n",
      "Data columns (total 5 columns):\n",
      " #   Column       Non-Null Count  Dtype  \n",
      "---  ------       --------------  -----  \n",
      " 0   EmployeeID   5 non-null      int16  \n",
      " 1   Name         5 non-null      object \n",
      " 2   Department   5 non-null      object \n",
      " 3   Designation  5 non-null      object \n",
      " 4   Salary       5 non-null      float32\n",
      "dtypes: float32(1), int16(1), object(3)\n",
      "memory usage: 282.0+ bytes\n"
     ]
    }
   ],
   "source": [
    "import numpy as np\n",
    "df1['EmployeeID'] = df1['EmployeeID'].astype(np.int16)\n",
    "df1['Salary'] = df1['Salary'].astype(np.float32) \n",
    "df1.info()"
   ]
  },
  {
   "cell_type": "code",
   "execution_count": null,
   "id": "3a1b3965-f6c6-4150-a6ce-01fe1b15ff33",
   "metadata": {},
   "outputs": [],
   "source": []
  }
 ],
 "metadata": {
  "kernelspec": {
   "display_name": "Python [conda env:base] *",
   "language": "python",
   "name": "conda-base-py"
  },
  "language_info": {
   "codemirror_mode": {
    "name": "ipython",
    "version": 3
   },
   "file_extension": ".py",
   "mimetype": "text/x-python",
   "name": "python",
   "nbconvert_exporter": "python",
   "pygments_lexer": "ipython3",
   "version": "3.12.7"
  }
 },
 "nbformat": 4,
 "nbformat_minor": 5
}
