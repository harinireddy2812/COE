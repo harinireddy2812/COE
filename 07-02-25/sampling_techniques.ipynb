{
 "cells": [
  {
   "cell_type": "markdown",
   "id": "a391f6f6-3cf0-4acb-90a8-01a4201961a5",
   "metadata": {},
   "source": [
    "***Balancing a Dataset with Downsampling***\n",
    "    \n",
    "        Imagine we have a dataset for a binary classification task where the class labels are imbalanced, and we want to downsample the majority class to balance the dataset."
   ]
  },
  {
   "cell_type": "code",
   "execution_count": 8,
   "id": "890ac8f0-b612-4f49-9498-383ac0e1735b",
   "metadata": {},
   "outputs": [],
   "source": [
    "import pandas as pd\n",
    "from sklearn.utils import resample\n",
    "df=pd.DataFrame({\n",
    "    'Age':[22,25,27,28,30,35,40,45,50,55,60,65,70],\n",
    "    'Income':[2000,2500,2700,3200,3500,3800,4000,4200,4300,4500,5000,5500,6000],\n",
    "    'Class':['High','Low','Low','High','High','Low','High','High','Low','Low','High','High','Low']\n",
    "})"
   ]
  },
  {
   "cell_type": "markdown",
   "id": "4ae7b0f4-d00e-402f-8b23-b5aec1cd9f59",
   "metadata": {},
   "source": [
    "High class has 7 instances.\n",
    "\n",
    "Low class has 6 instances."
   ]
  },
  {
   "cell_type": "code",
   "execution_count": 25,
   "id": "e680e8f7-c3b3-4190-be70-8fed0411468d",
   "metadata": {},
   "outputs": [
    {
     "name": "stdout",
     "output_type": "stream",
     "text": [
      "df high:    Age  Income Class\n",
      "0    22    2000  High\n",
      "3    28    3200  High\n",
      "4    30    3500  High\n",
      "6    40    4000  High\n",
      "7    45    4200  High\n",
      "10   60    5000  High\n",
      "11   65    5500  High\n",
      "df low:    Age  Income Class\n",
      "1    25    2500   Low\n",
      "2    27    2700   Low\n",
      "5    35    3800   Low\n",
      "8    50    4300   Low\n",
      "9    55    4500   Low\n",
      "12   70    6000   Low\n"
     ]
    }
   ],
   "source": [
    "#Seperate majority and minority classes\n",
    "df_high = df[df['Class'] == 'High']\n",
    "df_low  = df[df['Class'] == 'Low']\n",
    "print(f\"df high:{df_high}\")\n",
    "print(f\"df low:{df_low}\")"
   ]
  },
  {
   "cell_type": "code",
   "execution_count": 17,
   "id": "5362159c-fbd3-443e-b362-bf4bb57b0988",
   "metadata": {},
   "outputs": [],
   "source": [
    "#Downsample majority class\n",
    "df_high_downsampled = resample(df_high,replace=False,n_samples=len(df_low),random_state=42)"
   ]
  },
  {
   "cell_type": "code",
   "execution_count": 19,
   "id": "85bec162-4962-4386-95ca-249b03d29c14",
   "metadata": {},
   "outputs": [],
   "source": [
    "#Combine downsampled majority with minority class\n",
    "df_balanced = pd.concat([df_high_downsampled,df_low])"
   ]
  },
  {
   "cell_type": "code",
   "execution_count": 23,
   "id": "c5935f93-205a-4406-a884-c9753c2db50d",
   "metadata": {},
   "outputs": [
    {
     "name": "stdout",
     "output_type": "stream",
     "text": [
      "Class\n",
      "High    6\n",
      "Low     6\n",
      "Name: count, dtype: int64\n"
     ]
    }
   ],
   "source": [
    "print(df_balanced['Class'].value_counts())"
   ]
  },
  {
   "cell_type": "markdown",
   "id": "d5ff2f2d-8909-43dd-8fa1-6976bbcf2e0b",
   "metadata": {},
   "source": [
    "***Upsampling the Minority Class***\n",
    "\n",
    "Let's use a dataset with a binary classification task where the Minority class has fewer instances than the Majority class,and we\"ll\n",
    "perform upsampling on the minority class."
   ]
  },
  {
   "cell_type": "code",
   "execution_count": 52,
   "id": "5979c31d-bf16-4c7e-abcf-3e418fa8cac5",
   "metadata": {},
   "outputs": [],
   "source": [
    "import pandas as pd\n",
    "from sklearn.utils import resample\n",
    "\n",
    "#Sample dataset\n",
    "df = pd.DataFrame({\n",
    "    'Age':[22,25,27,28,30,35,40,45,50,55,60,65],\n",
    "    'Income':[2000,2500,2700,3200,3500,3800,4000,4300,4500,5000,5500,6000],\n",
    "    'Class':['Minority','Majority','Majority','Majority','Minority','Majority','Minority','Majority','Majority','Minority','Majority','Majority']\n",
    "})"
   ]
  },
  {
   "cell_type": "markdown",
   "id": "ebed8a5e-5343-43f3-b127-984848433184",
   "metadata": {},
   "source": [
    "Majority class has 9 instances\n",
    "\n",
    "Minority class has 4 instances"
   ]
  },
  {
   "cell_type": "code",
   "execution_count": 55,
   "id": "6990339f-62c2-4c22-bdaf-2ecdbd9a9cf8",
   "metadata": {},
   "outputs": [],
   "source": [
    "#Seperate majority \n",
    "df_majority=df[df['Class']=='Majority']\n",
    "df_minority=df[df['Class']=='Minority']\n"
   ]
  },
  {
   "cell_type": "code",
   "execution_count": 57,
   "id": "3b4c39b2-a4ac-4c43-8fc5-4bb819a8b1e1",
   "metadata": {},
   "outputs": [
    {
     "name": "stdout",
     "output_type": "stream",
     "text": [
      "Class\n",
      "Majority    8\n",
      "Minority    8\n",
      "Name: count, dtype: int64\n"
     ]
    }
   ],
   "source": [
    "df_minority_upsampled=resample(df_minority,replace=True,n_samples=len(df_majority),random_state=42)\n",
    "df_balanced=pd.concat([df_majority,df_minority_upsampled])\n",
    "print(df_balanced['Class'].value_counts())"
   ]
  },
  {
   "cell_type": "markdown",
   "id": "010de0d3-1b25-4c29-9d64-ad3d9f95e14f",
   "metadata": {},
   "source": [
    "***SMOTE (Synthetic Minority Over-sampling Technique) is a technique used to address the class imbalance problem in machine learning, particularly in classification tasks.***"
   ]
  },
  {
   "cell_type": "code",
   "execution_count": 59,
   "id": "ddd06591-07e3-41af-8ec6-34172f6e545d",
   "metadata": {},
   "outputs": [
    {
     "name": "stdout",
     "output_type": "stream",
     "text": [
      "Requirement already satisfied: imbalanced-learn in c:\\users\\no proxy\\anaconda3\\lib\\site-packages (0.12.3)\n",
      "Requirement already satisfied: numpy>=1.17.3 in c:\\users\\no proxy\\anaconda3\\lib\\site-packages (from imbalanced-learn) (1.26.4)\n",
      "Requirement already satisfied: scipy>=1.5.0 in c:\\users\\no proxy\\anaconda3\\lib\\site-packages (from imbalanced-learn) (1.13.1)\n",
      "Requirement already satisfied: scikit-learn>=1.0.2 in c:\\users\\no proxy\\anaconda3\\lib\\site-packages (from imbalanced-learn) (1.5.1)\n",
      "Requirement already satisfied: joblib>=1.1.1 in c:\\users\\no proxy\\anaconda3\\lib\\site-packages (from imbalanced-learn) (1.4.2)\n",
      "Requirement already satisfied: threadpoolctl>=2.0.0 in c:\\users\\no proxy\\anaconda3\\lib\\site-packages (from imbalanced-learn) (3.5.0)\n",
      "Note: you may need to restart the kernel to use updated packages.\n"
     ]
    }
   ],
   "source": [
    "pip install imbalanced-learn"
   ]
  },
  {
   "cell_type": "code",
   "execution_count": 66,
   "id": "907ae11c-d094-4fea-adf4-80a9206b9a5b",
   "metadata": {},
   "outputs": [
    {
     "name": "stdout",
     "output_type": "stream",
     "text": [
      "Class\n",
      "1    8\n",
      "0    8\n",
      "Name: count, dtype: int64\n",
      "    Age  Income  Class\n",
      "0    22    2000      1\n",
      "1    25    2500      0\n",
      "2    27    2700      0\n",
      "3    28    3200      0\n",
      "4    30    3500      1\n",
      "5    35    3800      0\n",
      "6    40    4000      1\n",
      "7    45    4300      0\n",
      "8    50    4500      0\n",
      "9    55    5000      1\n",
      "10   60    5500      0\n",
      "11   65    6000      0\n",
      "12   34    3700      1\n",
      "13   31    3578      1\n",
      "14   51    4766      1\n",
      "15   40    4058      1\n"
     ]
    }
   ],
   "source": [
    "import pandas as pd\n",
    "from imblearn.over_sampling import SMOTE\n",
    "\n",
    "#Sample dataset\n",
    "df = pd.DataFrame({\n",
    "    'Age':[22,25,27,28,30,35,40,45,50,55,60,65],\n",
    "    'Income':[2000,2500,2700,3200,3500,3800,4000,4300,4500,5000,5500,6000],\n",
    "    'Class':['Minority','Majority','Majority','Majority','Minority','Majority','Minority','Majority','Majority','Minority','Majority','Majority']\n",
    "})\n",
    "#Step 1:Convert categorical labels to numerical values\n",
    "df['Class'] = df['Class'].map({'Majority':0,'Minority':1})\n",
    "\n",
    "#Step 2:Split features(X) and target variable(y)\n",
    "X = df[['Age','Income']]\n",
    "y = df['Class']\n",
    "\n",
    "#Step 3:Apply SMOTE with k_neighbors=3(reducing from default 5)\n",
    "smote = SMOTE(sampling_strategy='auto',random_state=42,k_neighbors=3)\n",
    "X_resampled,y_resampled = smote.fit_resample(X,y)\n",
    "\n",
    "#Step 4: Convert numeric labels back to categorical\n",
    "y_sampled = y_resampled.map({0:'Majority',1:'Minority'})\n",
    "\n",
    "#Step 5:Combine the resampled dataset\n",
    "df_balanced = pd.concat([pd.DataFrame(X_resampled,columns=['Age','Income']),pd.DataFrame(y_resampled,columns=['Class'])],axis=1)\n",
    "\n",
    "#Step 6: Print class distribution\n",
    "print(df_balanced['Class'].value_counts())\n",
    "print(df_balanced)"
   ]
  },
  {
   "cell_type": "code",
   "execution_count": null,
   "id": "ef3cf608-c488-4411-8530-3e6ced39a756",
   "metadata": {},
   "outputs": [],
   "source": []
  }
 ],
 "metadata": {
  "kernelspec": {
   "display_name": "Python [conda env:base] *",
   "language": "python",
   "name": "conda-base-py"
  },
  "language_info": {
   "codemirror_mode": {
    "name": "ipython",
    "version": 3
   },
   "file_extension": ".py",
   "mimetype": "text/x-python",
   "name": "python",
   "nbconvert_exporter": "python",
   "pygments_lexer": "ipython3",
   "version": "3.12.7"
  }
 },
 "nbformat": 4,
 "nbformat_minor": 5
}
