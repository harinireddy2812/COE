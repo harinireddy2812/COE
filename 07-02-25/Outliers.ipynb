{
 "cells": [
  {
   "cell_type": "markdown",
   "id": "351e7a79-65c5-4840-9e75-c0b11a9730cc",
   "metadata": {},
   "source": [
    "***What is mean by Outlier?***\n",
    "\n",
    "Outlier-data point lies outside the overall distribution of the dataset.\n",
    "\n",
    "Criteria to identify an outlier ?\n",
    "\n",
    "1.Data point that falls outside of 1.5 times of an interquartile range above the 3rd quartile and below the 1st quartile.\n",
    "\n",
    "2.Data point that falls outside of 3 standard deviation ,we can use a z score and if the z score falls outside of 2 standard deviation\n",
    "\n",
    "What is the reason for an outlier to exits in a dataset?\n",
    "\n",
    "1.Variability in the data.\n",
    "\n",
    "2.An experimental measurement error.\n",
    "\n",
    "Impacts of having outliers in a dataset?\n",
    "\n",
    "1.It causes various problems during our statistical analysis.\n",
    "\n",
    "\n",
    "Methods to find the outliers.\n",
    "\n",
    "1.Scatter plot\n",
    "\n",
    "2.Box plot\n",
    "\n",
    "3.Z score\n",
    "\n",
    "4.IQR interquantile range"
   ]
  },
  {
   "cell_type": "code",
   "execution_count": 2,
   "id": "6ff5e0c8-c44c-4c56-a857-78d1fe606b5f",
   "metadata": {},
   "outputs": [],
   "source": [
    "import numpy as np\n",
    "import pandas as pd\n",
    "import matplotlib.pyplot as plt\n",
    "import seaborn as sns\n",
    "from scipy.stats import zscore"
   ]
  },
  {
   "cell_type": "code",
   "execution_count": 10,
   "id": "837b41ad-85eb-4e58-a663-c1fff60c0195",
   "metadata": {},
   "outputs": [],
   "source": [
    "np.random.seed(42)\n",
    "data=np.random.normal(loc=50,scale=10,size=100)#mean=50,std=10\n",
    "outliers=np.array([10,110,5,120])\n",
    "data=np.concatenate([data,outliers])"
   ]
  },
  {
   "cell_type": "code",
   "execution_count": 12,
   "id": "7e5dcecf-af79-404a-a34a-e36d470fc37e",
   "metadata": {},
   "outputs": [
    {
     "name": "stdout",
     "output_type": "stream",
     "text": [
      "      Values\n",
      "0  54.967142\n",
      "1  48.617357\n",
      "2  56.476885\n",
      "3  65.230299\n",
      "4  47.658466\n"
     ]
    }
   ],
   "source": [
    "df=pd.DataFrame(data,columns=['Values'])\n",
    "print(df.head())"
   ]
  },
  {
   "cell_type": "code",
   "execution_count": 20,
   "id": "e0ce408f-28ea-44ab-8ea2-08e786953d87",
   "metadata": {},
   "outputs": [
    {
     "data": {
      "text/html": [
       "<div>\n",
       "<style scoped>\n",
       "    .dataframe tbody tr th:only-of-type {\n",
       "        vertical-align: middle;\n",
       "    }\n",
       "\n",
       "    .dataframe tbody tr th {\n",
       "        vertical-align: top;\n",
       "    }\n",
       "\n",
       "    .dataframe thead th {\n",
       "        text-align: right;\n",
       "    }\n",
       "</style>\n",
       "<table border=\"1\" class=\"dataframe\">\n",
       "  <thead>\n",
       "    <tr style=\"text-align: right;\">\n",
       "      <th></th>\n",
       "      <th>Values</th>\n",
       "    </tr>\n",
       "  </thead>\n",
       "  <tbody>\n",
       "    <tr>\n",
       "      <th>99</th>\n",
       "      <td>47.654129</td>\n",
       "    </tr>\n",
       "    <tr>\n",
       "      <th>100</th>\n",
       "      <td>10.000000</td>\n",
       "    </tr>\n",
       "    <tr>\n",
       "      <th>101</th>\n",
       "      <td>110.000000</td>\n",
       "    </tr>\n",
       "    <tr>\n",
       "      <th>102</th>\n",
       "      <td>5.000000</td>\n",
       "    </tr>\n",
       "    <tr>\n",
       "      <th>103</th>\n",
       "      <td>120.000000</td>\n",
       "    </tr>\n",
       "  </tbody>\n",
       "</table>\n",
       "</div>"
      ],
      "text/plain": [
       "         Values\n",
       "99    47.654129\n",
       "100   10.000000\n",
       "101  110.000000\n",
       "102    5.000000\n",
       "103  120.000000"
      ]
     },
     "execution_count": 20,
     "metadata": {},
     "output_type": "execute_result"
    }
   ],
   "source": [
    "df.tail()"
   ]
  },
  {
   "cell_type": "markdown",
   "id": "7fb0c8ab-14e2-484f-9dd3-c22dacb56e65",
   "metadata": {},
   "source": [
    "***SCATTER PLOT***"
   ]
  },
  {
   "cell_type": "code",
   "execution_count": 29,
   "id": "c0203f53-e0fa-4b1c-82e2-4e7db73f9858",
   "metadata": {},
   "outputs": [
    {
     "data": {
      "image/png": "[encoded data removed]",
      "text/plain": [
       "<Figure size 800x500 with 1 Axes>"
      ]
     },
     "metadata": {},
     "output_type": "display_data"
    }
   ],
   "source": [
    "plt.figure(figsize=(8,5))\n",
    "plt.scatter(range(len(df)),df['Values'],color='blue',label='Data points')\n",
    "plt.axhline(y=df['Values'].mean(),color='red',linestyle='--',label='Mean')\n",
    "plt.xlabel(\"Index\")\n",
    "plt.ylabel(\"Values\")\n",
    "plt.title(\"Scatter Plot for Outlier Detection\")\n",
    "plt.legend()\n",
    "plt.show()"
   ]
  },
  {
   "cell_type": "markdown",
   "id": "7145f5ee-08ee-4a80-8651-84199318aaf1",
   "metadata": {},
   "source": [
    "***BOX PLOT***"
   ]
  },
  {
   "cell_type": "code",
   "execution_count": 39,
   "id": "956316ff-efa6-4c0d-a130-e28b1ac7aca9",
   "metadata": {},
   "outputs": [
    {
     "data": {
      "image/png": "[encoded data removed]",
      "text/plain": [
       "<Figure size 800x500 with 1 Axes>"
      ]
     },
     "metadata": {},
     "output_type": "display_data"
    }
   ],
   "source": [
    "plt.figure(figsize=(8,5))\n",
    "sns.boxplot(data=df,y='Values')\n",
    "plt.title(\"Box Plot for Outlier Detection\")\n",
    "plt.show()"
   ]
  },
  {
   "cell_type": "markdown",
   "id": "94e61c31-ed05-4679-88b4-182740ebdcdd",
   "metadata": {},
   "source": [
    "***Z-Score Method***\n",
    "\n",
    "The Z-score formula is:\n",
    "\n",
    "z= X−μ/σ\n",
    "\n",
    "Where:\n",
    "\n",
    "z = Z-score of the data point\n",
    "\n",
    "𝑋 = Data point\n",
    "\n",
    "μ = Mean of the dataset\n",
    "\n",
    "σ = Standard deviation of the dataset\n"
   ]
  },
  {
   "cell_type": "code",
   "execution_count": 57,
   "id": "484161bf-4169-4ca8-8632-1ad55b4904ae",
   "metadata": {},
   "outputs": [
    {
     "name": "stdout",
     "output_type": "stream",
     "text": [
      "     Values   Z-score Outlier_Z\n",
      "101   110.0  4.328173   Outlier\n",
      "102     5.0 -3.175368   Outlier\n",
      "103   120.0  5.042796   Outlier\n"
     ]
    }
   ],
   "source": [
    "df['Z-score']=zscore(df['Values'])\n",
    "df['Outlier_Z']=df['Z-score'].apply(lambda x:'Outlier' if abs(x) > 3 else 'Normal')\n",
    "print(df[df['Outlier_Z']=='Outlier'])"
   ]
  },
  {
   "cell_type": "markdown",
   "id": "e58b539e-484f-45e6-a245-32f8ebdf6f9a",
   "metadata": {},
   "source": [
    "***Interquartile Range(IQR) Method***\n",
    "\n",
    "The IQR formula is:\n",
    "\n",
    "    IQR = Q3 - Q1\n",
    "    \n",
    "Steps:\n",
    "\n",
    "1.Calculate Q1(25th percentile) and Q3(75th percentile).\n",
    "\n",
    "2.Compute IQR = Q3 - Q1.\n",
    "\n",
    "3.Define lower & upper bounds:\n",
    "\n",
    "             ** Lower Bound=Q1-1.5xIQR **\n",
    "             \n",
    "             ** Upper Bound=Q3+1.5xIQR **\n",
    "             \n",
    "4.Any value outside these bounds is an outlier."
   ]
  },
  {
   "cell_type": "code",
   "execution_count": 70,
   "id": "66113875-e5b4-4864-b6d3-b58b4be11b77",
   "metadata": {},
   "outputs": [
    {
     "name": "stdout",
     "output_type": "stream",
     "text": [
      "         Values   Z-score Outlier_Z Outlier_IQR\n",
      "74    23.802549 -1.831694    Normal     Outlier\n",
      "100   10.000000 -2.818056    Normal     Outlier\n",
      "101  110.000000  4.328173   Outlier     Outlier\n",
      "102    5.000000 -3.175368   Outlier     Outlier\n",
      "103  120.000000  5.042796   Outlier     Outlier\n"
     ]
    }
   ],
   "source": [
    "Q1 = df['Values'].quantile(0.25)\n",
    "Q3 = df['Values'].quantile(0.75)\n",
    "IQR = Q3 - Q1\n",
    "\n",
    "#Defining bounds\n",
    "lower_bound = Q1 - 1.5 * IQR\n",
    "upper_bound = Q3 + 1.5 * IQR\n",
    "\n",
    "#Identifying outliers\n",
    "df['Outlier_IQR'] = df['Values'].apply(lambda x:'Outlier' if (x < lower_bound or x > upper_bound) else 'Normal')\n",
    "print(df[df['Outlier_IQR']=='Outlier']) #Display detected outliers"
   ]
  },
  {
   "cell_type": "markdown",
   "id": "ddbb6ee4-ad46-4b7c-9a77-5d28f59eeb71",
   "metadata": {},
   "source": [
    "***Final Summary***\n",
    "\n",
    "1.Scatter PLot -> Outliers appear far from the main cluster\n",
    "\n",
    "2.Box Plot -> Outliers are outside the whiskers.\n",
    "\n",
    "3.Z-Score -> Values with Z > 3 or Z < -3 are outliers.\n",
    "\n",
    "4.IQR Method -> Values outside [Q1-1.5xIQR,Q3+1.5xIQR] are outliers."
   ]
  },
  {
   "cell_type": "markdown",
   "id": "6f508681-0777-4996-a728-6eac3c6cbb38",
   "metadata": {},
   "source": [
    "**Finding Outliers Using the IQR Method with a 5-Number Summary**\n",
    "\n",
    "The 5-number summary consists of:\n",
    " \n",
    "Minimum (Q0) → The smallest value in the dataset.\n",
    " \n",
    "First Quartile (Q1) → The 25th percentile (lower quartile).\n",
    " \n",
    "Median (Q2) → The 50th percentile (middle value).\n",
    " \n",
    "Third Quartile (Q3) → The 75th percentile (upper quartile).\n",
    " \n",
    "Maximum (Q4) → The largest value in the dataset.\n",
    " \n",
    "The Interquartile Range (IQR) is calculated as:\n",
    " \n",
    "IQR=Q3−Q1\n",
    " \n",
    "Any value outside the range:\n",
    " \n",
    "[Q1−1.5×IQR,Q3+1.5×IQR]  is considered an outlier.\n",
    "    \n",
    " **Let's generate a dataset, compute the 5-number summary, and find the outliers using the IQR**"
   ]
  },
  {
   "cell_type": "code",
   "execution_count": 81,
   "id": "48865837-5e05-4f3f-a22e-fab06ca5cc18",
   "metadata": {},
   "outputs": [
    {
     "name": "stdout",
     "output_type": "stream",
     "text": [
      "5-Number Summary:\n",
      "Min:5.0,Q1: 43.874401021766715,Median (Q2):48.73043708220287,Q3:55.00852473036764,Max: 120.0\n",
      "IQR:6.278087648164771\n",
      "Lower Bound:34.45726954951956,Upper Bound:64.42565620261479\n",
      "Outliers:[ 65.23029856  65.79212816  30.86719755  32.75082167  64.65648769\n",
      "  68.52278185  30.40329876  32.36959845  65.38036566  65.64643656\n",
      "  23.80254896  30.12431085  64.77894045  10.         110.\n",
      "   5.         120.        ]\n"
     ]
    }
   ],
   "source": [
    "import numpy as np\n",
    "#Step 1:Create a dataset\n",
    "np.random.seed(42)\n",
    "data=np.random.normal(loc=50,scale=10,size=100)#mean=50,std=10\n",
    "outliers=np.array([10,110,5,120])\n",
    "data=np.concatenate([data,outliers])\n",
    "\n",
    "#Step 2:Compute the 5-number summary\n",
    "Q1 = np.percentile(data,25)\n",
    "Q2 = np.median(data)\n",
    "Q3 = np.percentile(data,75)\n",
    "min_value = np.min(data)\n",
    "max_value = np.max(data)\n",
    "\n",
    "#Step 3:Compute IQR\n",
    "IQR = Q3 -Q2\n",
    "\n",
    "#Step 4:Compute Outlier Boundaries\n",
    "lower_bound = Q1 -1.5 *IQR\n",
    "upper_bound = Q3 +1.5 *IQR\n",
    "\n",
    "#Step 5:Find Outliera\n",
    "outliers = data[(data < lower_bound) | (data > upper_bound)]\n",
    "\n",
    "#Step 6:Print Results\n",
    "print(f\"5-Number Summary:\\nMin:{min_value},Q1: {Q1},Median (Q2):{Q2},Q3:{Q3},Max: {max_value}\")\n",
    "print(f\"IQR:{IQR}\")\n",
    "print(f\"Lower Bound:{lower_bound},Upper Bound:{upper_bound}\")\n",
    "print(f\"Outliers:{outliers}\")"
   ]
  },
  {
   "cell_type": "code",
   "execution_count": null,
   "id": "687836b0-46cb-4cf1-90dc-3a1f9d93f972",
   "metadata": {},
   "outputs": [],
   "source": []
  }
 ],
 "metadata": {
  "kernelspec": {
   "display_name": "Python [conda env:base] *",
   "language": "python",
   "name": "conda-base-py"
  },
  "language_info": {
   "codemirror_mode": {
    "name": "ipython",
    "version": 3
   },
   "file_extension": ".py",
   "mimetype": "text/x-python",
   "name": "python",
   "nbconvert_exporter": "python",
   "pygments_lexer": "ipython3",
   "version": "3.12.7"
  }
 },
 "nbformat": 4,
 "nbformat_minor": 5
}
